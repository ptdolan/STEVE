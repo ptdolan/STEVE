{
 "cells": [
  {
   "cell_type": "code",
   "execution_count": null,
   "metadata": {
    "collapsed": false
   },
   "outputs": [],
   "source": [
    "from Bio.Seq import Seq\n",
    "from Bio import SeqIO\n",
    "from Bio.Alphabet import generic_dna\n",
    "import numpy as np\n",
    "import matplotlib as mpl\n",
    "import matplotlib.pyplot as pp\n",
    "import pandas as pd\n",
    "\n",
    "AagContigs = \"/Users/ptdolan/Research/EVEsAndpiRNA/Frozen_Data/Aag2_assembly/Aag2_Contigs.fa\"\n",
    "LVPContigs = \"/Users/ptdolan/Research/EVEsAndpiRNA/Genomes/Aedes_aegypti-LVP-Contigs.fasta\"\n",
    "piClusterFile=\"/Users/ptdolan/Research/EVEsAndpiRNA/Frozen_Data/proTRAC_piRNAs.map_2016y11m1d22h53m3s/Aag2_piClusters.bed\"\n",
    "emem=\"/Users/ptdolan/Research/EVEsAndpiRNA/e-mem_1000.out\"\n"
   ]
  },
  {
   "cell_type": "code",
   "execution_count": null,
   "metadata": {
    "collapsed": false
   },
   "outputs": [],
   "source": [
    "def contigDict(contigfasta):\n",
    "\tcontigdict = SeqIO.to_dict(SeqIO.parse(contigfasta, \"fasta\"))\n",
    "\treturn(contigdict)\n",
    "\n",
    "def pullSeqWindow(p):\n",
    "    pcontig=p[1][0]\n",
    "    piStart=p[1][1]\n",
    "    piEnd=p[1][2]\n",
    "    aligns=EMEM.loc[EMEM[0]==pcontig,:]\n",
    "    sortAlign=aligns.sort(1)\n",
    "    print(p)\n",
    "    if sortAlign.empty!=True:\n",
    "        print(pcontig[0])\n",
    "        upperneeb=sortAlign.loc[sortAlign[1]>max(piStart,piEnd),:].iloc[1]\n",
    "        lowerneeb=sortAlign.loc[sortAlign[1]<min(piStart,piEnd),:].iloc[-1]\n",
    "        print(upperneeb)\n",
    "        if(upperneeb[4]==lowerneeb[4]):\n",
    "            \n",
    "            LVPseq=str(cD_L[upperneeb[4]].seq)[(lowerneeb[2]+(piStart-lowerneeb[1])):(upperneeb[2]+(piEnd-upperneeb[1]))]\n",
    "            AAGseq=str(cD_A[pcontig].seq)[piStart:piEnd]\n",
    "            print(\"Length of Window: \"+str(len(LVPseq))+str(len(AAGseq)))\n",
    "    return(LVPseq,AAGseq)\n",
    "\n",
    "def dotplot(seqA,seqB,window):\n",
    "    strarrayA=pd.dataframe([seqA[i:(i+window)] for i in range(len(seqA)-window)]*(len(seqB)-window))\n",
    "    strarrayB=pd.dataframe([seqB[i:(i+window)] for i in range(len(seqB)-window)]*(len(seqA)-window)).transpose\n",
    "    arr=strarrayA==strarrayB\n",
    "    return(pd.dataframe(array,dtype=\"int\"))"
   ]
  },
  {
   "cell_type": "code",
   "execution_count": 8,
   "metadata": {
    "collapsed": false
   },
   "outputs": [],
   "source": [
    "cD_A=contigDict(AagContigs)"
   ]
  },
  {
   "cell_type": "code",
   "execution_count": 9,
   "metadata": {
    "collapsed": false
   },
   "outputs": [],
   "source": [
    "cD_L=contigDict(LVPContigs)"
   ]
  },
  {
   "cell_type": "code",
   "execution_count": 13,
   "metadata": {
    "collapsed": false
   },
   "outputs": [],
   "source": [
    "EMEM=pd.read_csv(emem,header=None,sep=\"\\t\")"
   ]
  },
  {
   "cell_type": "code",
   "execution_count": 14,
   "metadata": {
    "collapsed": false,
    "scrolled": true
   },
   "outputs": [
    {
     "data": {
      "text/html": [
       "<div>\n",
       "<table border=\"1\" class=\"dataframe\">\n",
       "  <thead>\n",
       "    <tr style=\"text-align: right;\">\n",
       "      <th></th>\n",
       "      <th>0</th>\n",
       "      <th>1</th>\n",
       "      <th>2</th>\n",
       "      <th>3</th>\n",
       "      <th>4</th>\n",
       "      <th>5</th>\n",
       "      <th>6</th>\n",
       "    </tr>\n",
       "  </thead>\n",
       "  <tbody>\n",
       "    <tr>\n",
       "      <th>0</th>\n",
       "      <td>000000F</td>\n",
       "      <td>3428571</td>\n",
       "      <td>3447017</td>\n",
       "      <td>mono:plus</td>\n",
       "      <td>+</td>\n",
       "      <td>18447</td>\n",
       "      <td>4446</td>\n",
       "    </tr>\n",
       "    <tr>\n",
       "      <th>1</th>\n",
       "      <td>000003F</td>\n",
       "      <td>3703001</td>\n",
       "      <td>3713000</td>\n",
       "      <td>mono:minus</td>\n",
       "      <td>+</td>\n",
       "      <td>10000</td>\n",
       "      <td>1773</td>\n",
       "    </tr>\n",
       "    <tr>\n",
       "      <th>2</th>\n",
       "      <td>000003F</td>\n",
       "      <td>3724016</td>\n",
       "      <td>3750973</td>\n",
       "      <td>mono:minus</td>\n",
       "      <td>+</td>\n",
       "      <td>26958</td>\n",
       "      <td>10035</td>\n",
       "    </tr>\n",
       "    <tr>\n",
       "      <th>3</th>\n",
       "      <td>000003F</td>\n",
       "      <td>3754145</td>\n",
       "      <td>3762992</td>\n",
       "      <td>mono:minus</td>\n",
       "      <td>+</td>\n",
       "      <td>8848</td>\n",
       "      <td>1836</td>\n",
       "    </tr>\n",
       "    <tr>\n",
       "      <th>4</th>\n",
       "      <td>000003F</td>\n",
       "      <td>3766001</td>\n",
       "      <td>3776000</td>\n",
       "      <td>mono:minus</td>\n",
       "      <td>+</td>\n",
       "      <td>10000</td>\n",
       "      <td>2198</td>\n",
       "    </tr>\n",
       "  </tbody>\n",
       "</table>\n",
       "</div>"
      ],
      "text/plain": [
       "         0        1        2           3  4      5      6\n",
       "0  000000F  3428571  3447017   mono:plus  +  18447   4446\n",
       "1  000003F  3703001  3713000  mono:minus  +  10000   1773\n",
       "2  000003F  3724016  3750973  mono:minus  +  26958  10035\n",
       "3  000003F  3754145  3762992  mono:minus  +   8848   1836\n",
       "4  000003F  3766001  3776000  mono:minus  +  10000   2198"
      ]
     },
     "execution_count": 14,
     "metadata": {},
     "output_type": "execute_result"
    }
   ],
   "source": [
    "pi=pd.read_csv(piClusterFile,sep=\"\\t\",header=None)\n",
    "pi.head()"
   ]
  },
  {
   "cell_type": "code",
   "execution_count": null,
   "metadata": {
    "collapsed": false
   },
   "outputs": [],
   "source": [
    "for p in pi.iterrows():\n",
    "    LVPseq,AAGseq=pullSeqWindow(p)\n",
    "    out=dotplot(LVPseq,AAGseq,30)\n",
    "    print(out)\n",
    "    #pp.matshow(out)\n",
    "    #pp.savefig(\"piCluster\"+str(p[0])+\".png\", dpi=300, facecolor='w', edgecolor='w',\n",
    "    #    orientation='portrait', papertype=None, format=None,\n",
    "    #    transparent=False, bbox_inches=None, pad_inches=0.1,\n",
    "    #    frameon=None)\n"
   ]
  },
  {
   "cell_type": "code",
   "execution_count": null,
   "metadata": {
    "collapsed": false
   },
   "outputs": [],
   "source": [
    "pp.savefig(\"piCluster\"+str(p[0])+\".png\", dpi=300, facecolor='w', edgecolor='w',orientation='portrait', papertype=None, format=None,transparent=False, bbox_inches=None, pad_inches=0.1,frameon=None)"
   ]
  },
  {
   "cell_type": "code",
   "execution_count": 172,
   "metadata": {
    "collapsed": false
   },
   "outputs": [
    {
     "name": "stdout",
     "output_type": "stream",
     "text": [
      "AAGE02015710.1\n",
      "AAGE02010354.1\n"
     ]
    }
   ],
   "source": [
    "\n",
    "\n",
    "\n",
    "#str(cD_L[minposit].seq)[].lower()"
   ]
  },
  {
   "cell_type": "code",
   "execution_count": 252,
   "metadata": {
    "collapsed": false
   },
   "outputs": [
    {
     "data": {
      "text/plain": [
       "array([[1, 0, 0, ..., 0, 0, 0],\n",
       "       [0, 1, 0, ..., 0, 0, 0],\n",
       "       [0, 0, 1, ..., 0, 0, 0],\n",
       "       ..., \n",
       "       [0, 0, 0, ..., 0, 0, 0],\n",
       "       [0, 0, 0, ..., 0, 0, 0],\n",
       "       [0, 0, 0, ..., 0, 0, 0]])"
      ]
     },
     "execution_count": 252,
     "metadata": {},
     "output_type": "execute_result"
    }
   ],
   "source": [
    "\n"
   ]
  },
  {
   "cell_type": "code",
   "execution_count": null,
   "metadata": {
    "collapsed": true
   },
   "outputs": [],
   "source": []
  }
 ],
 "metadata": {
  "kernelspec": {
   "display_name": "Python 3",
   "language": "python",
   "name": "python3"
  },
  "language_info": {
   "codemirror_mode": {
    "name": "ipython",
    "version": 3
   },
   "file_extension": ".py",
   "mimetype": "text/x-python",
   "name": "python",
   "nbconvert_exporter": "python",
   "pygments_lexer": "ipython3",
   "version": "3.5.1"
  }
 },
 "nbformat": 4,
 "nbformat_minor": 0
}
